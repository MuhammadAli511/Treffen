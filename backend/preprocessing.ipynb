{
 "cells": [
  {
   "attachments": {},
   "cell_type": "markdown",
   "metadata": {},
   "source": [
    "Normalization"
   ]
  },
  {
   "cell_type": "code",
   "execution_count": null,
   "metadata": {},
   "outputs": [],
   "source": [
    "import cv2\n",
    "from moviepy.editor import *\n",
    "import moviepy\n",
    "import numpy as np\n",
    "import os\n",
    "from matplotlib import pyplot as plt\n",
    "import time\n",
    "import mediapipe as mp\n",
    "\n",
    "min_height = 280\n",
    "min_width = 520\n",
    "max_width = 720\n",
    "max_height = 420\n",
    "\n",
    "for i in os.listdir(\"100words\"):\n",
    "    os.mkdir(\"ResizedVideos/\" + i)"
   ]
  },
  {
   "cell_type": "code",
   "execution_count": null,
   "metadata": {},
   "outputs": [],
   "source": [
    "count = 0\n",
    "filenames = os.listdir(\"100words\")\n",
    "for filename in filenames:\n",
    "    for i in os.listdir(\"100words/\" + filename):\n",
    "        try:\n",
    "            clip = VideoFileClip(\"100words/\" + filename + \"/\" + i)\n",
    "            clip_size = []\n",
    "            clip_size.append(clip.size[0])\n",
    "            clip_size.append(clip.size[1])\n",
    "            if clip_size[0]<min_width:\n",
    "                clip_size[0] = min_width\n",
    "                clip_size[1] = min_height\n",
    "            elif clip_size[0] > max_width: \n",
    "                clip_size[0] = max_width\n",
    "                clip_size[1] = max_height\n",
    "            if clip_size[1]<min_height:\n",
    "                clip_size[1] = min_height\n",
    "                clip_size[0] = min_width\n",
    "            elif clip_size[1] > max_height: \n",
    "                clip_size[1] = max_height   \n",
    "                clip_size[0] = max_width\n",
    "            x = clip.resize((clip_size[0],clip_size[1])).write_videofile(\"ResizedVideos/\" + filename + \"/\" + str(count) + \".mp4\" , fps = 30/clip.duration)\n",
    "            count+=1\n",
    "        except:\n",
    "            pass"
   ]
  },
  {
   "attachments": {},
   "cell_type": "markdown",
   "metadata": {},
   "source": [
    "Augmentation"
   ]
  },
  {
   "cell_type": "code",
   "execution_count": null,
   "metadata": {},
   "outputs": [],
   "source": [
    "import imgaug.augmenters as iaa\n",
    "from PIL import Image\n",
    "import cv2\n",
    "import glob\n",
    "from matplotlib import pyplot as plt\n",
    "import os\n",
    "import numpy as np\n",
    "import time\n",
    "\n",
    "def toVideo(aug , name , fps , size):\n",
    "    out = cv2.VideoWriter(name,0, (fps), (size[1],size[0]))\n",
    "    for i in range(len(aug)):\n",
    "        out.write(aug[i][...,::-1])\n",
    "    out.release()\n",
    "\n",
    "\n",
    "def videotoframes(video_name):    \n",
    "    frames = []\n",
    "    # Opens the Video file\n",
    "    cap= cv2.VideoCapture(video_name)\n",
    "    fps = cap.get(cv2.CAP_PROP_FPS)\n",
    "    i=0\n",
    "    while(cap.isOpened()):\n",
    "        #Read Frame\n",
    "        ret,frame = cap.read()\n",
    "        if ret == False:\n",
    "            break\n",
    "        i+=1\n",
    "        frames.append(frame[...,::-1])\n",
    "        \n",
    "    cap.release()\n",
    "    cv2.destroyAllWindows()\n",
    "    return frames ,fps\n",
    "\n",
    "\n",
    "def returnAugemntor(index , frames):\n",
    "    augmentorList = [\n",
    "        iaa.Affine(rotate=(10,10))(images=frames),\n",
    "        iaa.Affine(rotate=(15,15))(images=frames),\n",
    "        iaa.Affine(rotate=(-15,-15))(images=frames),\n",
    "        iaa.Affine(rotate=(-10,-10))(images=frames),\n",
    "        iaa.Affine(rotate=(20,20))(images=frames),\n",
    "        iaa.Affine(rotate=(-20,-20))(images=frames),\n",
    "        iaa.Affine(rotate=(30,30))(images=frames),\n",
    "        iaa.Affine(rotate=(-30,-30))(images=frames),\n",
    "        iaa.Affine(rotate=(40,40))(images=frames),\n",
    "        iaa.Affine(rotate=(-40,-40))(images=frames)\n",
    "        ]\n",
    "    return augmentorList[index]"
   ]
  },
  {
   "cell_type": "code",
   "execution_count": null,
   "metadata": {},
   "outputs": [],
   "source": [
    "directory = \"ResizedVideos\" \n",
    "LL = os.listdir(directory)\n",
    "counter = 0\n",
    "for foldername in LL:\n",
    "    LL_NEW= os.listdir(directory+'/'+foldername)\n",
    "    count = len(LL_NEW)  \n",
    "    for augment in range(10):\n",
    "        for filename in LL_NEW: \n",
    "            if  '_' not in filename:\n",
    "                if count == 150:\n",
    "                    break\n",
    "                else:\n",
    "                    print(\"Word : \", foldername ,  \", Count : \", counter, \", Toal : \", str(150000), \", Percentage Completed : \", str(counter/307900*100))\n",
    "                    frames , fps = videotoframes(directory + '/' + foldername + '/' + filename)\n",
    "                    size = frames[0].shape\n",
    "                    aug = returnAugemntor(augment , frames)\n",
    "                    name = directory + '/' + foldername + '/' + filename.split(\".\")[0]+\"_\" + str(count)+\".mp4\"\n",
    "                    toVideo(aug , name , fps , size)\n",
    "                    count+=1\n",
    "                    counter+=1"
   ]
  }
 ],
 "metadata": {
  "kernelspec": {
   "display_name": "base",
   "language": "python",
   "name": "python3"
  },
  "language_info": {
   "name": "python",
   "version": "3.9.13 (main, Aug 25 2022, 23:51:50) [MSC v.1916 64 bit (AMD64)]"
  },
  "orig_nbformat": 4,
  "vscode": {
   "interpreter": {
    "hash": "dfe2e9041c24d5f91854bb9ffc35eacf9a6123f8e0fdaf39110ac9ad93cae24d"
   }
  }
 },
 "nbformat": 4,
 "nbformat_minor": 2
}
